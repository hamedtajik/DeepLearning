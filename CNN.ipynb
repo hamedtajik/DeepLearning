{
 "cells": [
  {
   "cell_type": "markdown",
   "metadata": {
    "colab_type": "text",
    "id": "3DR-eO17geWu"
   },
   "source": [
    "# Convolutional Neural Network"
   ]
  },
  {
   "cell_type": "code",
   "execution_count": 3,
   "metadata": {
    "colab": {},
    "colab_type": "code",
    "id": "FIleuCAjoFD8"
   },
   "outputs": [],
   "source": [
    "import tensorflow as tf\n",
    "from keras_preprocessing.image import ImageDataGenerator"
   ]
  },
  {
   "cell_type": "code",
   "execution_count": 4,
   "metadata": {},
   "outputs": [
    {
     "data": {
      "text/plain": [
       "'2.3.1'"
      ]
     },
     "execution_count": 4,
     "metadata": {},
     "output_type": "execute_result"
    }
   ],
   "source": [
    "tf.__version__"
   ]
  },
  {
   "cell_type": "markdown",
   "metadata": {
    "colab_type": "text",
    "id": "oxQxCBWyoGPE"
   },
   "source": [
    "## Part 1 - Data Preprocessing"
   ]
  },
  {
   "cell_type": "markdown",
   "metadata": {
    "colab_type": "text",
    "id": "MvE-heJNo3GG"
   },
   "source": [
    "### Preprocessing the Training set"
   ]
  },
  {
   "cell_type": "code",
   "execution_count": 11,
   "metadata": {},
   "outputs": [],
   "source": [
    "train_datagen = ImageDataGenerator(zoom_range=0.2, shear_range=2.0,  horizontal_flip=True, rescale=1./255)\n"
   ]
  },
  {
   "cell_type": "code",
   "execution_count": 12,
   "metadata": {},
   "outputs": [
    {
     "name": "stdout",
     "output_type": "stream",
     "text": [
      "Found 8000 images belonging to 2 classes.\n"
     ]
    }
   ],
   "source": [
    "training_set = train_datagen.flow_from_directory(\"dataset/training_set\" ,target_size=(64, 64),  class_mode='binary',batch_size=32)"
   ]
  },
  {
   "cell_type": "code",
   "execution_count": 13,
   "metadata": {},
   "outputs": [
    {
     "name": "stdout",
     "output_type": "stream",
     "text": [
      "Found 2000 images belonging to 2 classes.\n"
     ]
    }
   ],
   "source": [
    "test_datagen= ImageDataGenerator(rescale=1./255)\n",
    "test_set = test_datagen.flow_from_directory(\"dataset/test_set\" ,target_size=(64, 64),  class_mode='binary',batch_size=32)"
   ]
  },
  {
   "cell_type": "markdown",
   "metadata": {
    "colab_type": "text",
    "id": "af8O4l90gk7B"
   },
   "source": [
    "## Part 2 - Building the CNN"
   ]
  },
  {
   "cell_type": "markdown",
   "metadata": {
    "colab_type": "text",
    "id": "ces1gXY2lmoX"
   },
   "source": [
    "### Initialising the CNN"
   ]
  },
  {
   "cell_type": "code",
   "execution_count": 14,
   "metadata": {},
   "outputs": [],
   "source": [
    "cnn = tf.keras.models.Sequential()"
   ]
  },
  {
   "cell_type": "markdown",
   "metadata": {
    "colab_type": "text",
    "id": "u5YJj_XMl5LF"
   },
   "source": [
    "### Step 1 - Convolution"
   ]
  },
  {
   "cell_type": "code",
   "execution_count": 15,
   "metadata": {},
   "outputs": [],
   "source": [
    "cnn.add(tf.keras.layers.Conv2D(filters=32, kernel_size=3, activation='relu', input_shape=[64, 64, 3]))"
   ]
  },
  {
   "cell_type": "markdown",
   "metadata": {
    "colab_type": "text",
    "id": "tf87FpvxmNOJ"
   },
   "source": [
    "### Step 2 - Pooling"
   ]
  },
  {
   "cell_type": "code",
   "execution_count": 16,
   "metadata": {},
   "outputs": [],
   "source": [
    "cnn.add(tf.keras.layers.MaxPool2D(pool_size= 2, strides= 2))"
   ]
  },
  {
   "cell_type": "markdown",
   "metadata": {
    "colab_type": "text",
    "id": "xaTOgD8rm4mU"
   },
   "source": [
    "### Adding a second convolutional layer"
   ]
  },
  {
   "cell_type": "code",
   "execution_count": 17,
   "metadata": {},
   "outputs": [],
   "source": [
    "cnn.add(tf.keras.layers.Conv2D(filters=32, kernel_size=3, activation='relu'))\n",
    "cnn.add(tf.keras.layers.MaxPool2D(pool_size= 2, strides= 2))"
   ]
  },
  {
   "cell_type": "markdown",
   "metadata": {
    "colab_type": "text",
    "id": "tmiEuvTunKfk"
   },
   "source": [
    "### Step 3 - Flattening"
   ]
  },
  {
   "cell_type": "code",
   "execution_count": 18,
   "metadata": {},
   "outputs": [],
   "source": [
    "cnn.add(tf.keras.layers.Flatten())"
   ]
  },
  {
   "cell_type": "markdown",
   "metadata": {
    "colab_type": "text",
    "id": "dAoSECOm203v"
   },
   "source": [
    "### Step 4 - Full Connection"
   ]
  },
  {
   "cell_type": "code",
   "execution_count": 19,
   "metadata": {},
   "outputs": [],
   "source": [
    "cnn.add(tf.keras.layers.Dense(units=128, activation= \"relu\"))"
   ]
  },
  {
   "cell_type": "markdown",
   "metadata": {
    "colab_type": "text",
    "id": "yTldFvbX28Na"
   },
   "source": [
    "### Step 5 - Output Layer"
   ]
  },
  {
   "cell_type": "code",
   "execution_count": 22,
   "metadata": {},
   "outputs": [],
   "source": [
    "cnn.add(tf.keras.layers.Dense(units=1, activation= \"sigmoid\"))"
   ]
  },
  {
   "cell_type": "markdown",
   "metadata": {
    "colab_type": "text",
    "id": "D6XkI90snSDl"
   },
   "source": [
    "## Part 3 - Training the CNN"
   ]
  },
  {
   "cell_type": "markdown",
   "metadata": {
    "colab_type": "text",
    "id": "vfrFQACEnc6i"
   },
   "source": [
    "### Compiling the CNN"
   ]
  },
  {
   "cell_type": "code",
   "execution_count": 24,
   "metadata": {},
   "outputs": [],
   "source": [
    "cnn.compile(optimizer='adam',loss= 'binary_crossentropy', metrics=['accuracy'])"
   ]
  },
  {
   "cell_type": "markdown",
   "metadata": {
    "colab_type": "text",
    "id": "ehS-v3MIpX2h"
   },
   "source": [
    "### Training the CNN on the Training set and evaluating it on the Test set"
   ]
  },
  {
   "cell_type": "code",
   "execution_count": 25,
   "metadata": {},
   "outputs": [
    {
     "name": "stdout",
     "output_type": "stream",
     "text": [
      "Epoch 1/25\n",
      "250/250 [==============================] - 105s 422ms/step - loss: 0.6849 - accuracy: 0.5596 - val_loss: 0.6570 - val_accuracy: 0.6170\n",
      "Epoch 2/25\n",
      "250/250 [==============================] - 50s 199ms/step - loss: 0.6316 - accuracy: 0.6482 - val_loss: 0.6030 - val_accuracy: 0.6880s: 0.6463 - accura - ETA: 17s - loss: 0.644 - ETA: 14s - loss: 0.6413 - ac - ETA: 12s - - ETA: 8s - loss: - ETA: 2s - loss: 0.6309 - accu - ETA: 1s - loss: 0.6319 - \n",
      "Epoch 3/25\n",
      "250/250 [==============================] - 50s 199ms/step - loss: 0.5902 - accuracy: 0.6834 - val_loss: 0.5670 - val_accuracy: 0.709533s - loss: 0.5985 - accuracy: 0.6 - ETA: 32s - loss:  - ETA: 28s - loss: 0.5951 - accur - ETA: 27 - ETA: 21s - loss: 0.5922 - accu  - ETA: 11s - loss: 0.5939 - accuracy:  -  - ETA: 2s\n",
      "Epoch 4/25\n",
      "250/250 [==============================] - 50s 199ms/step - loss: 0.5566 - accuracy: 0.7180 - val_loss: 0.5212 - val_accuracy: 0.7385\n",
      "Epoch 5/25\n",
      "250/250 [==============================] - 50s 200ms/step - loss: 0.5247 - accuracy: 0.7335 - val_loss: 0.5007 - val_accuracy: 0.7630\n",
      "Epoch 6/25\n",
      "250/250 [==============================] - 49s 197ms/step - loss: 0.5018 - accuracy: 0.7539 - val_loss: 0.5091 - val_accuracy: 0.7460\n",
      "Epoch 7/25\n",
      "250/250 [==============================] - 49s 198ms/step - loss: 0.4799 - accuracy: 0.7663 - val_loss: 0.5432 - val_accuracy: 0.7235\n",
      "Epoch 8/25\n",
      "250/250 [==============================] - 49s 197ms/step - loss: 0.4602 - accuracy: 0.7822 - val_loss: 0.4945 - val_accuracy: 0.7590\n",
      "Epoch 9/25\n",
      "250/250 [==============================] - 50s 198ms/step - loss: 0.4458 - accuracy: 0.7891 - val_loss: 0.4765 - val_accuracy: 0.7690\n",
      "Epoch 10/25\n",
      "250/250 [==============================] - 49s 197ms/step - loss: 0.4298 - accuracy: 0.7995 - val_loss: 0.4776 - val_accuracy: 0.7700\n",
      "Epoch 11/25\n",
      "250/250 [==============================] - 49s 197ms/step - loss: 0.4186 - accuracy: 0.8084 - val_loss: 0.5025 - val_accuracy: 0.7585\n",
      "Epoch 12/25\n",
      "250/250 [==============================] - 49s 197ms/step - loss: 0.4058 - accuracy: 0.8074 - val_loss: 0.4589 - val_accuracy: 0.7910\n",
      "Epoch 13/25\n",
      "250/250 [==============================] - 50s 199ms/step - loss: 0.3951 - accuracy: 0.8210 - val_loss: 0.4495 - val_accuracy: 0.7865 31s - loss: 0.3976 - accuracy: 0.8 - ETA: 30s - loss: 0.3943 - acc - ETA: 28s - loss: 0.3956 - accuracy: - ETA: 27s - loss: 0.3939 - accuracy: - ETA: 25s - los\n",
      "Epoch 14/25\n",
      "250/250 [==============================] - 50s 200ms/step - loss: 0.3830 - accuracy: 0.8289 - val_loss: 0.5038 - val_accuracy: 0.7685\n",
      "Epoch 15/25\n",
      "250/250 [==============================] - 51s 204ms/step - loss: 0.3749 - accuracy: 0.8315 - val_loss: 0.4515 - val_accuracy: 0.7935\n",
      "Epoch 16/25\n",
      "250/250 [==============================] - 50s 199ms/step - loss: 0.3587 - accuracy: 0.8462 - val_loss: 0.4570 - val_accuracy: 0.7980\n",
      "Epoch 17/25\n",
      "250/250 [==============================] - 50s 198ms/step - loss: 0.3452 - accuracy: 0.8478 - val_loss: 0.4606 - val_accuracy: 0.7950\n",
      "Epoch 18/25\n",
      "250/250 [==============================] - 50s 198ms/step - loss: 0.3385 - accuracy: 0.8509 - val_loss: 0.4643 - val_accuracy: 0.7975\n",
      "Epoch 19/25\n",
      "250/250 [==============================] - 49s 198ms/step - loss: 0.3373 - accuracy: 0.8522 - val_loss: 0.4704 - val_accuracy: 0.7945\n",
      "Epoch 20/25\n",
      "250/250 [==============================] - 50s 198ms/step - loss: 0.3282 - accuracy: 0.8568 - val_loss: 0.5655 - val_accuracy: 0.7675\n",
      "Epoch 21/25\n",
      "250/250 [==============================] - 50s 199ms/step - loss: 0.3077 - accuracy: 0.8644 - val_loss: 0.4718 - val_accuracy: 0.7915 - loss: 0.3116 -\n",
      "Epoch 22/25\n",
      "250/250 [==============================] - 50s 198ms/step - loss: 0.3000 - accuracy: 0.8733 - val_loss: 0.4854 - val_accuracy: 0.7945l\n",
      "Epoch 23/25\n",
      "250/250 [==============================] - 50s 198ms/step - loss: 0.2958 - accuracy: 0.8740 - val_loss: 0.4853 - val_accuracy: 0.8000\n",
      "Epoch 24/25\n",
      "250/250 [==============================] - 50s 199ms/step - loss: 0.2799 - accuracy: 0.8761 - val_loss: 0.5231 - val_accuracy: 0.7885\n",
      "Epoch 25/25\n",
      "250/250 [==============================] - 49s 198ms/step - loss: 0.2697 - accuracy: 0.8874 - val_loss: 0.4920 - val_accuracy: 0.8075\n"
     ]
    },
    {
     "data": {
      "text/plain": [
       "<tensorflow.python.keras.callbacks.History at 0x17e09fa1490>"
      ]
     },
     "execution_count": 25,
     "metadata": {},
     "output_type": "execute_result"
    }
   ],
   "source": [
    "cnn.fit(x= training_set,validation_data=test_set,epochs= 25)"
   ]
  },
  {
   "cell_type": "markdown",
   "metadata": {
    "colab_type": "text",
    "id": "U3PZasO0006Z"
   },
   "source": [
    "## Part 4 - Making a single prediction"
   ]
  },
  {
   "cell_type": "code",
   "execution_count": 26,
   "metadata": {},
   "outputs": [],
   "source": [
    "import numpy as np\n",
    "from keras_preprocessing import image\n",
    "test_image= image.load_img(\"dataset/single_prediction/cat_or_dog_1.jpg\",target_size = (64, 64))"
   ]
  },
  {
   "cell_type": "code",
   "execution_count": 39,
   "metadata": {},
   "outputs": [],
   "source": [
    "test_image = image.img_to_array(test_image)\n",
    "test_image = np.expand_dims(test_image, axis = 0)"
   ]
  },
  {
   "cell_type": "code",
   "execution_count": 40,
   "metadata": {},
   "outputs": [],
   "source": [
    "result = cnn.predict(test_image)\n",
    "training_set.class_indices\n",
    "if result[0][0] == 1:\n",
    "  prediction = 'dog'\n",
    "else:\n",
    "  prediction = 'cat'"
   ]
  },
  {
   "cell_type": "code",
   "execution_count": 42,
   "metadata": {},
   "outputs": [
    {
     "name": "stdout",
     "output_type": "stream",
     "text": [
      "dog\n"
     ]
    }
   ],
   "source": [
    "print(prediction)"
   ]
  }
 ],
 "metadata": {
  "kernelspec": {
   "display_name": "Python 3",
   "language": "python",
   "name": "python3"
  },
  "language_info": {
   "codemirror_mode": {
    "name": "ipython",
    "version": 3
   },
   "file_extension": ".py",
   "mimetype": "text/x-python",
   "name": "python",
   "nbconvert_exporter": "python",
   "pygments_lexer": "ipython3",
   "version": "3.8.3"
  }
 },
 "nbformat": 4,
 "nbformat_minor": 4
}
